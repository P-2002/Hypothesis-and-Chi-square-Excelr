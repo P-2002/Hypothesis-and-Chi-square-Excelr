{
  "nbformat": 4,
  "nbformat_minor": 0,
  "metadata": {
    "colab": {
      "provenance": []
    },
    "kernelspec": {
      "name": "python3",
      "display_name": "Python 3"
    },
    "language_info": {
      "name": "python"
    }
  },
  "cells": [
    {
      "cell_type": "markdown",
      "source": [
        "**HYPOTHESIS TESTING**"
      ],
      "metadata": {
        "id": "s9cCQkeStZQY"
      }
    },
    {
      "cell_type": "markdown",
      "source": [
        "**State the hypothesis**\n",
        "\n",
        "\n",
        "*   Null Hypothesis(H0) : The actual mean weekly operating cost is equal to the theoretical mean (H0: μ = μ0)\n",
        "*   Alternative Hypothesis (H1): The mean weekly operating cost is higher than the theoretical mean (H1: μ > μ0)"
      ],
      "metadata": {
        "id": "IgEeBak_tloR"
      }
    },
    {
      "cell_type": "markdown",
      "source": [
        "**Calculate the Test Statistic(t-score)**"
      ],
      "metadata": {
        "id": "0ftDS1Huyodn"
      }
    },
    {
      "cell_type": "code",
      "execution_count": null,
      "metadata": {
        "colab": {
          "base_uri": "https://localhost:8080/"
        },
        "id": "Eb7oJfAPnCRp",
        "outputId": "7c90fd18-740f-4281-951e-b1d2c7ae20dd"
      },
      "outputs": [
        {
          "output_type": "stream",
          "name": "stdout",
          "text": [
            "test_statistic: -38.0\n"
          ]
        }
      ],
      "source": [
        "import scipy.stats as stats\n",
        "\n",
        "#data\n",
        "sample_mean = 3050  # Sample mean weekly cost (Rs.)\n",
        "theoretical_mean = 1000 + 5 * 600  # Theoretical mean weekly cost according to cost model (W = 1000 + 5X)\n",
        "std_dev = 5 * 25  # Standard deviation (5 * 25 units)\n",
        "sample_size = 25  # Sample size (25 restaurants)\n",
        "test_statistic = (sample_mean - theoretical_mean) / (std_dev / (sample_size ** 0.5))\n",
        "print(\"test_statistic:\", test_statistic)\n",
        "\n"
      ]
    },
    {
      "cell_type": "markdown",
      "source": [
        "**Determine the Critical Value**"
      ],
      "metadata": {
        "id": "HKwqhjLZzYXe"
      }
    },
    {
      "cell_type": "code",
      "source": [
        "dof= sample_size - 1\n",
        "alpha=0.05"
      ],
      "metadata": {
        "id": "2kRzrzr30kx1"
      },
      "execution_count": null,
      "outputs": []
    },
    {
      "cell_type": "code",
      "source": [
        "critical_value = stats.t.ppf(1 - alpha, dof)\n",
        "print(\"Critical Value:\", critical_value.round(4))"
      ],
      "metadata": {
        "colab": {
          "base_uri": "https://localhost:8080/"
        },
        "id": "7rRoAnpuzhpG",
        "outputId": "50ed77bb-38b7-4f6e-9995-a4816912fa88"
      },
      "execution_count": null,
      "outputs": [
        {
          "output_type": "stream",
          "name": "stdout",
          "text": [
            "Critical Value: 1.7109\n"
          ]
        }
      ]
    },
    {
      "cell_type": "markdown",
      "source": [
        "**Make a decision**"
      ],
      "metadata": {
        "id": "txzNt0n41gtM"
      }
    },
    {
      "cell_type": "code",
      "source": [
        "if test_statistic > critical_value:\n",
        "    print(\"Reject the null hypothesis.\")\n",
        "else:\n",
        "    print(\"Fail to reject the null hypothesis.\")"
      ],
      "metadata": {
        "colab": {
          "base_uri": "https://localhost:8080/"
        },
        "id": "a5Ocoyps1P0E",
        "outputId": "5a7341df-7fc0-43c4-d6b5-93d40740ebc1"
      },
      "execution_count": null,
      "outputs": [
        {
          "output_type": "stream",
          "name": "stdout",
          "text": [
            "Fail to reject the null hypothesis.\n"
          ]
        }
      ]
    },
    {
      "cell_type": "markdown",
      "source": [
        "**Conclusion**  \n",
        "\n",
        "1. If we reject the null hypothesis, we have evidence to support the claim that the weekly operating costs are higher than the model suggests.\n",
        "\n",
        "2. If we fail to reject the null hypothesis, there is not enough evidence to support the claim.\n",
        "\n",
        "**Example:** If our t-score is significantly negative(z=-38), we fail to reject the null hypothesis.\n",
        "There is not enough evidence to support the claim that the weekly operating costs are higher than the model suggest. In fact, the sample average(Rs.3,050) is much lower than the theoretical mean(Rs.4000), which contradicts the owner's claim.\n"
      ],
      "metadata": {
        "id": "vbI0ToMr2qY_"
      }
    }
  ]
}